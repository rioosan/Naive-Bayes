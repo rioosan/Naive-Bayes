{
  "nbformat": 4,
  "nbformat_minor": 0,
  "metadata": {
    "colab": {
      "name": "klasifikasi data dengan naive bayes.ipynb",
      "provenance": [],
      "toc_visible": true
    },
    "kernelspec": {
      "name": "python3",
      "display_name": "Python 3"
    },
    "language_info": {
      "name": "python"
    }
  },
  "cells": [
    {
      "cell_type": "code",
      "metadata": {
        "id": "r9gNcdPG5Exf"
      },
      "source": [
        "import numpy as np\n",
        "import matplotlib.pyplot as plt\n",
        "import pandas as pd"
      ],
      "execution_count": 78,
      "outputs": []
    },
    {
      "cell_type": "code",
      "metadata": {
        "id": "psK1h1QE7Ogy"
      },
      "source": [
        "dataset = pd.read_csv(\"data_jumlah_penderita_dbd.csv\")\n",
        "x = dataset.iloc[:,[2, 3]].values\n",
        "y = dataset.iloc[:, -1].values"
      ],
      "execution_count": 79,
      "outputs": []
    },
    {
      "cell_type": "code",
      "metadata": {
        "colab": {
          "base_uri": "https://localhost:8080/"
        },
        "id": "tWWMCLvh9TiP",
        "outputId": "b1f41581-d561-4050-ebc9-83f68361b3ac"
      },
      "source": [
        "print(x)"
      ],
      "execution_count": 80,
      "outputs": [
        {
          "output_type": "stream",
          "text": [
            "[[ 1 10]\n",
            " [ 2  0]\n",
            " [ 3  5]\n",
            " [ 4  4]\n",
            " [ 5 15]\n",
            " [ 6  4]\n",
            " [ 7 13]\n",
            " [ 8  7]\n",
            " [ 9  6]\n",
            " [10  8]\n",
            " [11 18]\n",
            " [12  4]\n",
            " [ 1  9]\n",
            " [ 2  0]\n",
            " [ 3 10]\n",
            " [ 4  4]\n",
            " [ 5 31]\n",
            " [ 6 15]\n",
            " [ 7 27]\n",
            " [ 8 15]\n",
            " [ 9 44]\n",
            " [10  7]\n",
            " [11 10]\n",
            " [12  4]\n",
            " [ 1 32]\n",
            " [ 2  2]\n",
            " [ 3 26]\n",
            " [ 4  6]\n",
            " [ 5 57]\n",
            " [ 6 34]\n",
            " [ 7 32]\n",
            " [ 8 20]\n",
            " [ 9 28]\n",
            " [10 14]\n",
            " [11 13]\n",
            " [12  5]\n",
            " [ 1 16]\n",
            " [ 2  4]\n",
            " [ 3 21]\n",
            " [ 4  8]\n",
            " [ 5 12]\n",
            " [ 6  4]\n",
            " [ 7  6]\n",
            " [ 8  5]\n",
            " [ 9 23]\n",
            " [10 20]\n",
            " [11 41]\n",
            " [12 12]\n",
            " [ 1 28]\n",
            " [ 2  4]\n",
            " [ 3 35]\n",
            " [ 4 29]\n",
            " [ 5 17]\n",
            " [ 6  8]\n",
            " [ 7 19]\n",
            " [ 8  5]\n",
            " [ 9 52]\n",
            " [10 21]\n",
            " [11 15]\n",
            " [12 11]\n",
            " [ 1 24]\n",
            " [ 2  8]\n",
            " [ 3 36]\n",
            " [ 4 12]\n",
            " [ 5 22]\n",
            " [ 6 12]\n",
            " [ 7 14]\n",
            " [ 8 21]\n",
            " [ 9 30]\n",
            " [10 20]\n",
            " [11 45]\n",
            " [12 41]\n",
            " [ 1 23]\n",
            " [ 2 20]\n",
            " [ 3 29]\n",
            " [ 4 20]\n",
            " [ 5 12]\n",
            " [ 6  9]\n",
            " [ 7 16]\n",
            " [ 8  9]\n",
            " [ 9 16]\n",
            " [10 16]\n",
            " [11 42]\n",
            " [12 14]\n",
            " [ 1  0]\n",
            " [ 2  0]\n",
            " [ 3  0]\n",
            " [ 4  0]]\n"
          ],
          "name": "stdout"
        }
      ]
    },
    {
      "cell_type": "code",
      "metadata": {
        "colab": {
          "base_uri": "https://localhost:8080/"
        },
        "id": "XO9EFAvl93cD",
        "outputId": "0706cb01-63f5-4b11-8419-0536b7bbf7de"
      },
      "source": [
        "print(y)"
      ],
      "execution_count": 81,
      "outputs": [
        {
          "output_type": "stream",
          "text": [
            "[0 0 0 1 0 1 0 0 1 0 0 1 0 0 0 1 0 0 1 0 0 0 1 0 0 0 0 0 1 0 0 0 1 0 0 0 0\n",
            " 1 0 0 0 1 0 0 0 1 0 0 1 0 0 1 0 0 1 0 0 1 0 0 0 0 1 0 0 0 0 0 0 0 0 1 0 0\n",
            " 0 0 1 0 0 1 0 0 0 1 0 0 0 0]\n"
          ],
          "name": "stdout"
        }
      ]
    },
    {
      "cell_type": "code",
      "metadata": {
        "id": "evuJWKZL-CGp"
      },
      "source": [
        "from sklearn.model_selection import train_test_split\n",
        "x_train, x_test, y_train, y_test = train_test_split(x, y, test_size = 0.25, random_state = 0)"
      ],
      "execution_count": 82,
      "outputs": []
    },
    {
      "cell_type": "code",
      "metadata": {
        "colab": {
          "base_uri": "https://localhost:8080/"
        },
        "id": "DKefw0fH-vvM",
        "outputId": "88e33469-1b0d-4a3c-b055-7c144f95e462"
      },
      "source": [
        "print(x_train)"
      ],
      "execution_count": 83,
      "outputs": [
        {
          "output_type": "stream",
          "text": [
            "[[ 2  8]\n",
            " [ 1 28]\n",
            " [ 8  9]\n",
            " [ 7 19]\n",
            " [ 1 23]\n",
            " [ 7 16]\n",
            " [10 16]\n",
            " [ 4  4]\n",
            " [ 3 36]\n",
            " [ 3 29]\n",
            " [ 4  6]\n",
            " [ 7 27]\n",
            " [ 3 35]\n",
            " [ 4 29]\n",
            " [ 2 20]\n",
            " [12 11]\n",
            " [ 8  5]\n",
            " [ 5 15]\n",
            " [ 4  4]\n",
            " [ 6 15]\n",
            " [ 5 12]\n",
            " [ 3 21]\n",
            " [ 6  4]\n",
            " [ 9 16]\n",
            " [ 9 30]\n",
            " [ 1 10]\n",
            " [11 13]\n",
            " [ 5 57]\n",
            " [12  4]\n",
            " [12  5]\n",
            " [12  4]\n",
            " [ 5 17]\n",
            " [11 18]\n",
            " [ 8 20]\n",
            " [ 1 24]\n",
            " [10 21]\n",
            " [12 41]\n",
            " [ 2  0]\n",
            " [ 9 28]\n",
            " [ 4 20]\n",
            " [ 3 10]\n",
            " [12 14]\n",
            " [ 8 15]\n",
            " [ 6 34]\n",
            " [ 2  4]\n",
            " [ 2  0]\n",
            " [ 3  0]\n",
            " [10 20]\n",
            " [ 9 44]\n",
            " [11 42]\n",
            " [ 2  2]\n",
            " [ 2  4]\n",
            " [11 41]\n",
            " [ 4  8]\n",
            " [ 6 12]\n",
            " [11 15]\n",
            " [ 1  9]\n",
            " [11 45]\n",
            " [ 1 16]\n",
            " [10  7]\n",
            " [10  8]\n",
            " [ 1  0]\n",
            " [ 8 21]\n",
            " [ 5 22]\n",
            " [12 12]\n",
            " [ 9 23]]\n"
          ],
          "name": "stdout"
        }
      ]
    },
    {
      "cell_type": "code",
      "metadata": {
        "colab": {
          "base_uri": "https://localhost:8080/"
        },
        "id": "j8Ucqa0o-0GH",
        "outputId": "3b8bc49e-9a01-47c6-9490-2ee81cab18b8"
      },
      "source": [
        "print(x_test)"
      ],
      "execution_count": 84,
      "outputs": [
        {
          "output_type": "stream",
          "text": [
            "[[ 3  5]\n",
            " [ 2  0]\n",
            " [ 6  8]\n",
            " [ 6  4]\n",
            " [ 7 14]\n",
            " [ 7 32]\n",
            " [10 20]\n",
            " [ 8  5]\n",
            " [ 6  9]\n",
            " [ 4  0]\n",
            " [ 8  7]\n",
            " [ 3 26]\n",
            " [10 14]\n",
            " [ 4 12]\n",
            " [ 9  6]\n",
            " [ 5 31]\n",
            " [ 1 32]\n",
            " [ 9 52]\n",
            " [ 5 12]\n",
            " [ 7  6]\n",
            " [11 10]\n",
            " [ 7 13]]\n"
          ],
          "name": "stdout"
        }
      ]
    },
    {
      "cell_type": "code",
      "metadata": {
        "colab": {
          "base_uri": "https://localhost:8080/"
        },
        "id": "NeRlaAYi-41S",
        "outputId": "a13ae67c-966d-4cc4-b78f-74ddb97a0ed6"
      },
      "source": [
        "print(y_train)"
      ],
      "execution_count": 85,
      "outputs": [
        {
          "output_type": "stream",
          "text": [
            "[0 1 1 1 0 0 0 1 1 0 0 1 0 1 0 0 0 0 1 0 0 0 1 0 0 0 0 1 1 0 0 0 0 0 0 1 1\n",
            " 0 1 0 0 1 0 0 0 0 0 0 0 0 0 1 0 0 0 0 0 0 0 0 0 0 0 0 0 0]\n"
          ],
          "name": "stdout"
        }
      ]
    },
    {
      "cell_type": "code",
      "metadata": {
        "colab": {
          "base_uri": "https://localhost:8080/"
        },
        "id": "gXrU6JYP-7i2",
        "outputId": "885ea7d1-2b20-4a09-d728-ffc3d3d5883c"
      },
      "source": [
        "print(y_test)"
      ],
      "execution_count": 86,
      "outputs": [
        {
          "output_type": "stream",
          "text": [
            "[0 0 0 1 0 0 1 0 0 0 0 0 0 0 1 0 0 0 1 0 1 0]\n"
          ],
          "name": "stdout"
        }
      ]
    },
    {
      "cell_type": "code",
      "metadata": {
        "id": "NyoT7YCK_SFl"
      },
      "source": [
        "from sklearn.preprocessing import StandardScaler\n",
        "sc = StandardScaler()\n",
        "x_train = sc.fit_transform(x_train)\n",
        "x_test = sc.fit_transform(x_test)"
      ],
      "execution_count": 87,
      "outputs": []
    },
    {
      "cell_type": "code",
      "metadata": {
        "colab": {
          "base_uri": "https://localhost:8080/"
        },
        "id": "Th6fXG9M_pC7",
        "outputId": "526c1225-8d49-4074-911e-b422416b4124"
      },
      "source": [
        "print(x_train)"
      ],
      "execution_count": 88,
      "outputs": [
        {
          "output_type": "stream",
          "text": [
            "[[-1.1653006  -0.74175204]\n",
            " [-1.43421613  0.83746198]\n",
            " [ 0.44819254 -0.66279134]\n",
            " [ 0.17927702  0.12681567]\n",
            " [-1.43421613  0.44265848]\n",
            " [ 0.17927702 -0.11006643]\n",
            " [ 0.98602359 -0.11006643]\n",
            " [-0.62746955 -1.05759484]\n",
            " [-0.89638508  1.46914759]\n",
            " [-0.89638508  0.91642268]\n",
            " [-0.62746955 -0.89967344]\n",
            " [ 0.17927702  0.75850128]\n",
            " [-0.89638508  1.39018689]\n",
            " [-0.62746955  0.91642268]\n",
            " [-1.1653006   0.20577637]\n",
            " [ 1.52385463 -0.50486994]\n",
            " [ 0.44819254 -0.97863414]\n",
            " [-0.35855403 -0.18902713]\n",
            " [-0.62746955 -1.05759484]\n",
            " [-0.08963851 -0.18902713]\n",
            " [-0.35855403 -0.42590924]\n",
            " [-0.89638508  0.28473707]\n",
            " [-0.08963851 -1.05759484]\n",
            " [ 0.71710806 -0.11006643]\n",
            " [ 0.71710806  0.99538338]\n",
            " [-1.43421613 -0.58383064]\n",
            " [ 1.25493911 -0.34694854]\n",
            " [-0.35855403  3.12732231]\n",
            " [ 1.52385463 -1.05759484]\n",
            " [ 1.52385463 -0.97863414]\n",
            " [ 1.52385463 -1.05759484]\n",
            " [-0.35855403 -0.03110573]\n",
            " [ 1.25493911  0.04785497]\n",
            " [ 0.44819254  0.20577637]\n",
            " [-1.43421613  0.52161918]\n",
            " [ 0.98602359  0.28473707]\n",
            " [ 1.52385463  1.8639511 ]\n",
            " [-1.1653006  -1.37343765]\n",
            " [ 0.71710806  0.83746198]\n",
            " [-0.62746955  0.20577637]\n",
            " [-0.89638508 -0.58383064]\n",
            " [ 1.52385463 -0.26798783]\n",
            " [ 0.44819254 -0.18902713]\n",
            " [-0.08963851  1.31122619]\n",
            " [-1.1653006  -1.05759484]\n",
            " [-1.1653006  -1.37343765]\n",
            " [-0.89638508 -1.37343765]\n",
            " [ 0.98602359  0.20577637]\n",
            " [ 0.71710806  2.1008332 ]\n",
            " [ 1.25493911  1.9429118 ]\n",
            " [-1.1653006  -1.21551625]\n",
            " [-1.1653006  -1.05759484]\n",
            " [ 1.25493911  1.8639511 ]\n",
            " [-0.62746955 -0.74175204]\n",
            " [-0.08963851 -0.42590924]\n",
            " [ 1.25493911 -0.18902713]\n",
            " [-1.43421613 -0.66279134]\n",
            " [ 1.25493911  2.1797939 ]\n",
            " [-1.43421613 -0.11006643]\n",
            " [ 0.98602359 -0.82071274]\n",
            " [ 0.98602359 -0.74175204]\n",
            " [-1.43421613 -1.37343765]\n",
            " [ 0.44819254  0.28473707]\n",
            " [-0.35855403  0.36369777]\n",
            " [ 1.52385463 -0.42590924]\n",
            " [ 0.71710806  0.44265848]]\n"
          ],
          "name": "stdout"
        }
      ]
    },
    {
      "cell_type": "code",
      "metadata": {
        "colab": {
          "base_uri": "https://localhost:8080/"
        },
        "id": "lzYy9Tbj_tGA",
        "outputId": "6986c8ff-c496-46fb-b513-4c4bb315024c"
      },
      "source": [
        "print(x_test)"
      ],
      "execution_count": 89,
      "outputs": [
        {
          "output_type": "stream",
          "text": [
            "[[-1.2355168  -0.7524388 ]\n",
            " [-1.61303582 -1.15036317]\n",
            " [-0.10295973 -0.51368418]\n",
            " [-0.10295973 -0.83202368]\n",
            " [ 0.27455929 -0.03617494]\n",
            " [ 0.27455929  1.39635278]\n",
            " [ 1.40711636  0.4413343 ]\n",
            " [ 0.65207831 -0.7524388 ]\n",
            " [-0.10295973 -0.43409931]\n",
            " [-0.85799778 -1.15036317]\n",
            " [ 0.65207831 -0.59326906]\n",
            " [-1.2355168   0.91884354]\n",
            " [ 1.40711636 -0.03617494]\n",
            " [-0.85799778 -0.19534469]\n",
            " [ 1.02959733 -0.67285393]\n",
            " [-0.48047876  1.31676791]\n",
            " [-1.99055485  1.39635278]\n",
            " [ 1.02959733  2.98805025]\n",
            " [-0.48047876 -0.19534469]\n",
            " [ 0.27455929 -0.67285393]\n",
            " [ 1.78463538 -0.35451444]\n",
            " [ 0.27455929 -0.11575982]]\n"
          ],
          "name": "stdout"
        }
      ]
    },
    {
      "cell_type": "code",
      "metadata": {
        "colab": {
          "base_uri": "https://localhost:8080/"
        },
        "id": "-liPdIET_x86",
        "outputId": "b1c3c28d-5250-42c9-9a76-3f9e0114f880"
      },
      "source": [
        "from sklearn.naive_bayes import GaussianNB\n",
        "classifier = GaussianNB()\n",
        "classifier.fit(x_train, y_train)"
      ],
      "execution_count": 90,
      "outputs": [
        {
          "output_type": "execute_result",
          "data": {
            "text/plain": [
              "GaussianNB(priors=None, var_smoothing=1e-09)"
            ]
          },
          "metadata": {
            "tags": []
          },
          "execution_count": 90
        }
      ]
    },
    {
      "cell_type": "code",
      "metadata": {
        "id": "h8VFCxVwAgnz"
      },
      "source": [
        "y_pred = classifier.predict(x_test)"
      ],
      "execution_count": 91,
      "outputs": []
    },
    {
      "cell_type": "code",
      "metadata": {
        "colab": {
          "base_uri": "https://localhost:8080/"
        },
        "id": "ekGBLLPRAsFz",
        "outputId": "16ae8405-24d3-44ea-a3c1-0fa8db55bccb"
      },
      "source": [
        "from sklearn.metrics import confusion_matrix\n",
        "cm = confusion_matrix(y_test, y_pred)\n",
        "print(cm)"
      ],
      "execution_count": 92,
      "outputs": [
        {
          "output_type": "stream",
          "text": [
            "[[16  1]\n",
            " [ 5  0]]\n"
          ],
          "name": "stdout"
        }
      ]
    },
    {
      "cell_type": "code",
      "metadata": {
        "colab": {
          "base_uri": "https://localhost:8080/",
          "height": 352
        },
        "id": "zssosZBYBqih",
        "outputId": "ba8b3403-f813-41ce-8de1-5233d730a508"
      },
      "source": [
        "from matplotlib.colors import ListedColormap\n",
        "x_set, y_set = x_train, y_train\n",
        "x1, x2 = np.meshgrid(np.arange(start = x_set[:, 0].min()-1, stop = x_set[:, 0].max()+1, step = 0.01),\n",
        "                     np.arange(start = x_set[:, 1].min()-1, stop = x_set[:, 1].max()+1, step = 0.01))\n",
        "plt.contourf(x1,x2, classifier.predict(np.array([x1.ravel(), x2.ravel()]).T).reshape(x1.shape), \n",
        "             alpha = 0.75, cmap = ListedColormap(('red', 'green')))\n",
        "plt.xlim(x1.min(), x1.max())\n",
        "plt.ylim(x2.min(), x2.max())\n",
        "for i, j in enumerate(np.unique(y_set)):\n",
        "  plt.scatter(x_set[y_set == j, 0], x_set[y_set == j, 1], c = ListedColormap(('red', 'green'))(i), label = j)\n",
        "plt.title('naive bayes (training set)')\n",
        "plt.xlabel('bulan')\n",
        "plt.ylabel('penderita DBD')\n",
        "plt.legend()\n",
        "plt.show()"
      ],
      "execution_count": 93,
      "outputs": [
        {
          "output_type": "stream",
          "text": [
            "*c* argument looks like a single numeric RGB or RGBA sequence, which should be avoided as value-mapping will have precedence in case its length matches with *x* & *y*.  Please use the *color* keyword-argument or provide a 2-D array with a single row if you intend to specify the same RGB or RGBA value for all points.\n",
            "*c* argument looks like a single numeric RGB or RGBA sequence, which should be avoided as value-mapping will have precedence in case its length matches with *x* & *y*.  Please use the *color* keyword-argument or provide a 2-D array with a single row if you intend to specify the same RGB or RGBA value for all points.\n"
          ],
          "name": "stderr"
        },
        {
          "output_type": "display_data",
          "data": {
            "image/png": "[encoded data removed]",
            "text/plain": [
              "<Figure size 432x288 with 1 Axes>"
            ]
          },
          "metadata": {
            "tags": [],
            "needs_background": "light"
          }
        }
      ]
    },
    {
      "cell_type": "code",
      "metadata": {
        "colab": {
          "base_uri": "https://localhost:8080/",
          "height": 352
        },
        "id": "fe6cYQhZHtB1",
        "outputId": "de2881e0-1c46-452c-daaa-1f71ee30ff6a"
      },
      "source": [
        "from matplotlib.colors import ListedColormap\n",
        "x_set, y_set = x_test, y_test\n",
        "x1, x2 = np.meshgrid(np.arange(start = x_set[:, 0].min()-1, stop = x_set[:, 0].max()+1, step = 0.01),\n",
        "                     np.arange(start = x_set[:, 1].min()-1, stop = x_set[:, 1].max()+1, step = 0.01))\n",
        "plt.contourf(x1,x2, classifier.predict(np.array([x1.ravel(), x2.ravel()]).T).reshape(x1.shape), \n",
        "             alpha = 0.75, cmap = ListedColormap(('red', 'green')))\n",
        "plt.xlim(x1.min(), x1.max())\n",
        "plt.ylim(x2.min(), x2.max())\n",
        "for i, j in enumerate(np.unique(y_set)):\n",
        "  plt.scatter(x_set[y_set == j, 0], x_set[y_set == j, 1], c = ListedColormap(('red', 'green'))(i), label = j)\n",
        "plt.title('naive bayes (training set)')\n",
        "plt.xlabel('bulan')\n",
        "plt.ylabel('penderita DBD')\n",
        "plt.legend()\n",
        "plt.show()"
      ],
      "execution_count": 94,
      "outputs": [
        {
          "output_type": "stream",
          "text": [
            "*c* argument looks like a single numeric RGB or RGBA sequence, which should be avoided as value-mapping will have precedence in case its length matches with *x* & *y*.  Please use the *color* keyword-argument or provide a 2-D array with a single row if you intend to specify the same RGB or RGBA value for all points.\n",
            "*c* argument looks like a single numeric RGB or RGBA sequence, which should be avoided as value-mapping will have precedence in case its length matches with *x* & *y*.  Please use the *color* keyword-argument or provide a 2-D array with a single row if you intend to specify the same RGB or RGBA value for all points.\n"
          ],
          "name": "stderr"
        },
        {
          "output_type": "display_data",
          "data": {
            "image/png": "[encoded data removed]",
            "text/plain": [
              "<Figure size 432x288 with 1 Axes>"
            ]
          },
          "metadata": {
            "tags": [],
            "needs_background": "light"
          }
        }
      ]
    }
  ]
}